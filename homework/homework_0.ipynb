{
 "cells": [
  {
   "cell_type": "code",
   "execution_count": 1,
   "id": "f6dff7f2",
   "metadata": {},
   "outputs": [],
   "source": [
    "import numpy as np\n",
    "import math\n",
    "from copy import deepcopy"
   ]
  },
  {
   "cell_type": "markdown",
   "id": "f1b8f921",
   "metadata": {},
   "source": [
    "# 1: Percentron Mistakes"
   ]
  },
  {
   "cell_type": "code",
   "execution_count": 27,
   "id": "e701554f",
   "metadata": {},
   "outputs": [],
   "source": [
    "x = np.array([[-1, -1],[1,0],[-1,1.5]])\n",
    "y = np.array([1,-1, 1])\n",
    "\n",
    "\n",
    "#1.a.\n",
    "def solve_1_a(x, y, obs_start, T=100):\n",
    "    theta = np.zeros(x.shape[1])\n",
    "    theta_progression = []\n",
    "    iter_num = 0\n",
    "    \n",
    "    x_new = x[obs_start:,:]\n",
    "    y_new = y[obs_start:]\n",
    "    \n",
    "    for t in range(T):\n",
    "        for i in range(y_new.shape[0]):\n",
    "            while y_new[i]*(np.matmul(theta,x_new[i])) <= 0:\n",
    "                theta = theta + y_new[i]*x_new[i]\n",
    "                theta_progression.append(theta)\n",
    "                iter_num += 1\n",
    "        \n",
    "    result_dict = {\"iter_num\": iter_num, \"theta_progression\": theta_progression}\n",
    "    return result_dict\n",
    "\n",
    "ans_1_a_1 = solve_1_a(x, y, 0)\n",
    "ans_1_a_3 = solve_1_a(x, y, 1)"
   ]
  },
  {
   "cell_type": "code",
   "execution_count": 28,
   "id": "470579a1",
   "metadata": {},
   "outputs": [
    {
     "name": "stdout",
     "output_type": "stream",
     "text": [
      "{'iter_num': 2, 'theta_progression': [array([-1., -1.]), array([-2. ,  0.5])]}\n",
      "{'iter_num': 1, 'theta_progression': [array([-1.,  0.])]}\n"
     ]
    }
   ],
   "source": [
    "print(ans_1_a_1)\n",
    "print(ans_1_a_3)"
   ]
  },
  {
   "cell_type": "code",
   "execution_count": 29,
   "id": "f147689a",
   "metadata": {},
   "outputs": [],
   "source": [
    "x = np.array([[-1, -1],[1,0],[-1,10]])\n",
    "y = np.array([1,-1, 1])\n",
    "\n",
    "\n",
    "#1.c.\n",
    "def solve_1_c(x, y, obs_start, T=100):\n",
    "    theta = np.zeros(x.shape[1])\n",
    "    theta_progression = []\n",
    "    iter_num = 0\n",
    "    \n",
    "    x_new = x[obs_start:,:]\n",
    "    y_new = y[obs_start:]\n",
    "    \n",
    "    for t in range(T):\n",
    "        for i in range(y_new.shape[0]):\n",
    "            while y_new[i]*(np.matmul(theta,x_new[i])) <= 0:\n",
    "                theta = theta + y_new[i]*x_new[i]\n",
    "                theta_progression.append(theta)\n",
    "                iter_num += 1\n",
    "        \n",
    "    result_dict = {\"iter_num\": iter_num, \"theta_progression\": theta_progression}\n",
    "    return result_dict\n",
    "\n",
    "ans_1_c_1 = solve_1_c(x, y, 0)\n",
    "ans_1_c_3 = solve_1_c(x, y, 1)"
   ]
  },
  {
   "cell_type": "code",
   "execution_count": 30,
   "id": "42255ec7",
   "metadata": {},
   "outputs": [
    {
     "name": "stdout",
     "output_type": "stream",
     "text": [
      "{'iter_num': 6, 'theta_progression': [array([-1., -1.]), array([-2.,  9.]), array([-3.,  8.]), array([-4.,  7.]), array([-5.,  6.]), array([-6.,  5.])]}\n",
      "{'iter_num': 1, 'theta_progression': [array([-1.,  0.])]}\n"
     ]
    }
   ],
   "source": [
    "print(ans_1_c_1)\n",
    "print(ans_1_c_3)"
   ]
  },
  {
   "cell_type": "markdown",
   "id": "a17acb13",
   "metadata": {},
   "source": [
    "# 3: Decision Boundaries"
   ]
  },
  {
   "cell_type": "code",
   "execution_count": 28,
   "id": "f7cc5af9",
   "metadata": {},
   "outputs": [],
   "source": [
    "x = np.array([[-1,1],[1,-1],[1,1],[2,2]])\n",
    "y = np.array([1,1,-1,-1])\n",
    "\n",
    "def solve_3_b(x, y, obs_start = 0, T=100):\n",
    "    theta = np.zeros(x.shape[1])\n",
    "    theta_progression = []\n",
    "    iter_num = 0\n",
    "    \n",
    "    x_new = x[obs_start:,:]\n",
    "    y_new = y[obs_start:]\n",
    "\n",
    "    for t in range(T):\n",
    "        for i in range(y_new.shape[0]):\n",
    "            while y_new[i]*(np.matmul(theta,x_new[i])) <= 0:\n",
    "                theta = theta + y_new[i]*x_new[i]\n",
    "                theta_progression.append(theta)\n",
    "                iter_num += 1\n",
    "    \n",
    "    ls_converge = [1 if y_new[i]*(np.matmul(theta,x_new[i])) > 0 else 0 for i in range(y_new.shape[0])]\n",
    "    strictly_converge = min(ls_converge) > 0.5\n",
    "                                  \n",
    "    result_dict = {\"iter_num\": iter_num, \"theta_progression\": theta_progression, \"strictly_converge\": strictly_converge}\n",
    "    return result_dict\n",
    "\n",
    "ans_3_b = solve_3_b(x, y, 0)"
   ]
  },
  {
   "cell_type": "code",
   "execution_count": 30,
   "id": "079f32ca",
   "metadata": {},
   "outputs": [
    {
     "data": {
      "text/plain": [
       "False"
      ]
     },
     "execution_count": 30,
     "metadata": {},
     "output_type": "execute_result"
    }
   ],
   "source": [
    "ans_3_b[\"strictly_converge\"]"
   ]
  },
  {
   "cell_type": "code",
   "execution_count": 41,
   "id": "60976324",
   "metadata": {},
   "outputs": [],
   "source": [
    "x = np.array([[-1,1],[1,-1],[1,1],[2,2]])\n",
    "y = np.array([1,1,-1,-1])\n",
    "\n",
    "def solve_3_b_4(x, y, obs_start = 0, T=100):\n",
    "    theta = np.zeros(x.shape[1]+1)\n",
    "    theta_progression = []\n",
    "    iter_num = 0\n",
    "    \n",
    "    x_new = x[obs_start:,:]\n",
    "    y_new = y[obs_start:]\n",
    "\n",
    "    for t in range(T):\n",
    "        for i in range(y_new.shape[0]):\n",
    "            while y_new[i]*(np.matmul(theta[:-1],x_new[i])+theta[-1]) <= 0:\n",
    "                theta[:-1] = theta[:-1] + y_new[i]*x_new[i]\n",
    "                theta[-1] = theta[-1]+y_new[i]\n",
    "                theta_progression.append(deepcopy(theta))\n",
    "                iter_num += 1\n",
    "    \n",
    "    ls_converge = [1 if y_new[i]*(np.matmul(theta[:-1],x_new[i])+theta[-1]) > 0 else 0 for i in range(y_new.shape[0])]\n",
    "    strictly_converge = min(ls_converge) > 0.5\n",
    "                                  \n",
    "    result_dict = {\"iter_num\": iter_num, \"theta_progression\": theta_progression, \"strictly_converge\": strictly_converge}\n",
    "    return result_dict\n",
    "\n",
    "ans_3_b_4 = solve_3_b_4(x, y, 0)"
   ]
  },
  {
   "cell_type": "code",
   "execution_count": 42,
   "id": "3424b7e9",
   "metadata": {},
   "outputs": [
    {
     "data": {
      "text/plain": [
       "{'iter_num': 3,\n",
       " 'theta_progression': [array([-1.,  1.,  1.]),\n",
       "  array([0., 0., 2.]),\n",
       "  array([-1., -1.,  1.])],\n",
       " 'strictly_converge': True}"
      ]
     },
     "execution_count": 42,
     "metadata": {},
     "output_type": "execute_result"
    }
   ],
   "source": [
    "ans_3_b_4"
   ]
  },
  {
   "cell_type": "markdown",
   "id": "7e57df64",
   "metadata": {},
   "source": [
    "# 6: Perceptron Updates "
   ]
  },
  {
   "cell_type": "code",
   "execution_count": 6,
   "id": "4b992b53",
   "metadata": {},
   "outputs": [],
   "source": [
    "x = np.array([[math.cos(math.pi*1), 0], [0, math.cos(math.pi*2)]])\n",
    "y = np.array([1, 1])\n",
    "\n",
    "def solve_6_a(x, y, obs_start = 0, T=100):\n",
    "    theta = np.zeros(x.shape[1])\n",
    "    theta_progression = []\n",
    "    iter_num = 0\n",
    "    \n",
    "    x_new = x[obs_start:,:]\n",
    "    y_new = y[obs_start:]\n",
    "\n",
    "    for t in range(T):\n",
    "        for i in range(y_new.shape[0]):\n",
    "            while y_new[i]*(np.matmul(theta,x_new[i])) <= 0:\n",
    "                theta = theta + y_new[i]*x_new[i]\n",
    "                theta_progression.append(theta)\n",
    "                iter_num += 1\n",
    "    \n",
    "    ls_converge = [1 if y_new[i]*(np.matmul(theta,x_new[i])) > 0 else 0 for i in range(y_new.shape[0])]\n",
    "    strictly_converge = min(ls_converge) > 0.5\n",
    "                                  \n",
    "    result_dict = {\"iter_num\": iter_num, \"theta_progression\": theta_progression, \"strictly_converge\": strictly_converge}\n",
    "    return result_dict\n",
    "\n",
    "ans_6_a = solve_6_a(x,y)"
   ]
  },
  {
   "cell_type": "code",
   "execution_count": 8,
   "id": "5db0e1e0",
   "metadata": {},
   "outputs": [
    {
     "data": {
      "text/plain": [
       "{'iter_num': 2,\n",
       " 'theta_progression': [array([-1.,  0.]), array([-1.,  1.])],\n",
       " 'strictly_converge': True}"
      ]
     },
     "execution_count": 8,
     "metadata": {},
     "output_type": "execute_result"
    }
   ],
   "source": [
    "ans_6_a"
   ]
  },
  {
   "cell_type": "code",
   "execution_count": null,
   "id": "5c36aab8",
   "metadata": {},
   "outputs": [],
   "source": []
  }
 ],
 "metadata": {
  "kernelspec": {
   "display_name": "Python 3 (ipykernel)",
   "language": "python",
   "name": "python3"
  },
  "language_info": {
   "codemirror_mode": {
    "name": "ipython",
    "version": 3
   },
   "file_extension": ".py",
   "mimetype": "text/x-python",
   "name": "python",
   "nbconvert_exporter": "python",
   "pygments_lexer": "ipython3",
   "version": "3.9.5"
  }
 },
 "nbformat": 4,
 "nbformat_minor": 5
}
