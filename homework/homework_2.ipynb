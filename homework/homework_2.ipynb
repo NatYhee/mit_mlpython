{
 "cells": [
  {
   "cell_type": "code",
   "execution_count": 1,
   "id": "66524235",
   "metadata": {},
   "outputs": [],
   "source": [
    "import numpy as np\n",
    "from copy import deepcopy"
   ]
  },
  {
   "cell_type": "code",
   "execution_count": 2,
   "id": "dbfdcd67",
   "metadata": {},
   "outputs": [],
   "source": [
    "U = np.array([[6,0,3,6]]).T\n",
    "V = np.array([[4,2,1]]).T\n",
    "\n",
    "Y = np.array([[5, np.nan, 7], [np.nan, 2, np.nan], [4, np.nan, np.nan], [np.nan, 3, 6]])"
   ]
  },
  {
   "cell_type": "code",
   "execution_count": 3,
   "id": "d53f1f65",
   "metadata": {},
   "outputs": [
    {
     "name": "stdout",
     "output_type": "stream",
     "text": [
      "[[24 12  6]\n",
      " [ 0  0  0]\n",
      " [12  6  3]\n",
      " [24 12  6]]\n",
      "[[ 5. nan  7.]\n",
      " [nan  2. nan]\n",
      " [ 4. nan nan]\n",
      " [nan  3.  6.]]\n"
     ]
    },
    {
     "data": {
      "text/plain": [
       "(4, 3)"
      ]
     },
     "execution_count": 3,
     "metadata": {},
     "output_type": "execute_result"
    }
   ],
   "source": [
    "X = U@V.T\n",
    "print(X)\n",
    "print(Y)\n",
    "\n",
    "X.shape"
   ]
  },
  {
   "cell_type": "code",
   "execution_count": 40,
   "id": "e8491ee7",
   "metadata": {},
   "outputs": [],
   "source": [
    "class collaborative_filtering:\n",
    "    \n",
    "    def __init__(self, Y, U, V, lb=1):\n",
    "        self.Y = Y\n",
    "        self.U = U\n",
    "        self.V = V\n",
    "        self.lb = lb\n",
    "    \n",
    "    def calculate_loss_function(self):\n",
    "        sum_squared_error = self._get_sum_squared_error(self.Y, self.U, self.V)\n",
    "        regularization = self._get_gegularization(self.U, self.V, self.lb)\n",
    "        return sum_squared_error, regularization\n",
    "    \n",
    "    @staticmethod\n",
    "    def _get_sum_squared_error(Y,U,V):\n",
    "        X = np.matmul(U, V.T)\n",
    "        sum_squared_error = 0\n",
    "        \n",
    "        for i in range(X.shape[0]):\n",
    "            for j in range(X.shape[1]):\n",
    "                if not np.isnan(Y[i][j]):\n",
    "                    sum_squared_error += 1/2*((Y[i][j] - X[i][j])**2)\n",
    "                    \n",
    "        return sum_squared_error\n",
    "    \n",
    "    @staticmethod\n",
    "    def _get_gegularization(U, V, lb):\n",
    "        return lb/2*(np.sum(U*U)) + lb/2*((np.sum(V*V)))\n",
    "    \n",
    "    \n",
    "    def one_step_U(self):\n",
    "        U_new = np.zeros(U.shape)\n",
    "        Y = deepcopy(self.Y)\n",
    "        idx_nan = np.where(np.isnan(Y), 0, 1)\n",
    "        Y = np.nan_to_num(Y)\n",
    "        \n",
    "        for i in range(U_new.shape[0]):\n",
    "            Y_i = Y[i].reshape(1, Y[i].shape[0])\n",
    "            idx_nan_i = idx_nan[i].reshape(1, idx_nan[i].shape[0])\n",
    "            U_new[i][0] = np.matmul(Y_i,V)/(np.sum(V*V*idx_nan_i.T) + self.lb)\n",
    "        \n",
    "        self.U = U_new\n",
    "            \n",
    "        \n",
    "        "
   ]
  },
  {
   "cell_type": "code",
   "execution_count": 41,
   "id": "463173b8",
   "metadata": {},
   "outputs": [
    {
     "name": "stdout",
     "output_type": "stream",
     "text": [
      "sse:255.5, regularize:51.0\n"
     ]
    }
   ],
   "source": [
    "cost_loss = collaborative_filtering(Y, U, V)\n",
    "sse, regu = cost_loss.calculate_loss_function()\n",
    "print(f\"sse:{sse}, regularize:{regu}\")"
   ]
  },
  {
   "cell_type": "code",
   "execution_count": 42,
   "id": "60b3f3d2",
   "metadata": {},
   "outputs": [
    {
     "name": "stdout",
     "output_type": "stream",
     "text": [
      "[[1.5       ]\n",
      " [0.8       ]\n",
      " [0.94117647]\n",
      " [2.        ]]\n"
     ]
    }
   ],
   "source": [
    "one_step_U = collaborative_filtering(Y, U, V)\n",
    "one_step_U.one_step_U()\n",
    "print(one_step_U.U)"
   ]
  },
  {
   "cell_type": "code",
   "execution_count": null,
   "id": "1702706d",
   "metadata": {},
   "outputs": [],
   "source": [
    "z = Y[1]\n",
    "z.reshape(1,3)"
   ]
  },
  {
   "cell_type": "code",
   "execution_count": null,
   "id": "ec07e334",
   "metadata": {},
   "outputs": [],
   "source": [
    "z.reshape(1,3)"
   ]
  },
  {
   "cell_type": "code",
   "execution_count": null,
   "id": "fe7d9fe7",
   "metadata": {},
   "outputs": [],
   "source": []
  }
 ],
 "metadata": {
  "kernelspec": {
   "display_name": "Python 3 (ipykernel)",
   "language": "python",
   "name": "python3"
  },
  "language_info": {
   "codemirror_mode": {
    "name": "ipython",
    "version": 3
   },
   "file_extension": ".py",
   "mimetype": "text/x-python",
   "name": "python",
   "nbconvert_exporter": "python",
   "pygments_lexer": "ipython3",
   "version": "3.9.5"
  }
 },
 "nbformat": 4,
 "nbformat_minor": 5
}
